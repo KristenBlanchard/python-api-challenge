{
 "cells": [
  {
   "cell_type": "markdown",
   "metadata": {},
   "source": [
    "# VacationPy\n",
    "----\n",
    "\n",
    "#### Note\n",
    "* Keep an eye on your API usage. Use https://developers.google.com/maps/reporting/gmp-reporting as reference for how to monitor your usage and billing.\n",
    "\n",
    "* Instructions have been included for each segment. You do not have to follow them exactly, but they are included to help you think through the steps."
   ]
  },
  {
   "cell_type": "code",
   "execution_count": 1,
   "metadata": {},
   "outputs": [],
   "source": [
    "# Dependencies and Setup\n",
    "import matplotlib.pyplot as plt\n",
    "import pandas as pd\n",
    "import numpy as np\n",
    "import requests\n",
    "import gmaps\n",
    "import os\n",
    "\n",
    "# Import API key\n",
    "from api_keys import g_key"
   ]
  },
  {
   "cell_type": "markdown",
   "metadata": {},
   "source": [
    "### Store Part I results into DataFrame\n",
    "* Load the csv exported in Part I to a DataFrame"
   ]
  },
  {
   "cell_type": "code",
   "execution_count": 2,
   "metadata": {},
   "outputs": [
    {
     "output_type": "execute_result",
     "data": {
      "text/plain": "           City  Cloudiness Country        Date  Humidity    Lat    Lng  \\\n0        Albany          95      US  1599100533        91  42.60 -73.97   \n1  Kruisfontein           0      ZA  1599100616        38 -34.00  24.73   \n2        Gerāsh           0      IR  1599100706        43  27.67  54.14   \n3        Torbay          90      CA  1599100523        71  47.67 -52.73   \n4     Thinadhoo         100      MV  1599100706        75   0.53  72.93   \n\n   Max Temp  Wind Speed  \n0     73.99        3.74  \n1     60.01        1.01  \n2     73.40        2.42  \n3     55.00       12.75  \n4     82.24       13.38  ",
      "text/html": "<div>\n<style scoped>\n    .dataframe tbody tr th:only-of-type {\n        vertical-align: middle;\n    }\n\n    .dataframe tbody tr th {\n        vertical-align: top;\n    }\n\n    .dataframe thead th {\n        text-align: right;\n    }\n</style>\n<table border=\"1\" class=\"dataframe\">\n  <thead>\n    <tr style=\"text-align: right;\">\n      <th></th>\n      <th>City</th>\n      <th>Cloudiness</th>\n      <th>Country</th>\n      <th>Date</th>\n      <th>Humidity</th>\n      <th>Lat</th>\n      <th>Lng</th>\n      <th>Max Temp</th>\n      <th>Wind Speed</th>\n    </tr>\n  </thead>\n  <tbody>\n    <tr>\n      <th>0</th>\n      <td>Albany</td>\n      <td>95</td>\n      <td>US</td>\n      <td>1599100533</td>\n      <td>91</td>\n      <td>42.60</td>\n      <td>-73.97</td>\n      <td>73.99</td>\n      <td>3.74</td>\n    </tr>\n    <tr>\n      <th>1</th>\n      <td>Kruisfontein</td>\n      <td>0</td>\n      <td>ZA</td>\n      <td>1599100616</td>\n      <td>38</td>\n      <td>-34.00</td>\n      <td>24.73</td>\n      <td>60.01</td>\n      <td>1.01</td>\n    </tr>\n    <tr>\n      <th>2</th>\n      <td>Gerāsh</td>\n      <td>0</td>\n      <td>IR</td>\n      <td>1599100706</td>\n      <td>43</td>\n      <td>27.67</td>\n      <td>54.14</td>\n      <td>73.40</td>\n      <td>2.42</td>\n    </tr>\n    <tr>\n      <th>3</th>\n      <td>Torbay</td>\n      <td>90</td>\n      <td>CA</td>\n      <td>1599100523</td>\n      <td>71</td>\n      <td>47.67</td>\n      <td>-52.73</td>\n      <td>55.00</td>\n      <td>12.75</td>\n    </tr>\n    <tr>\n      <th>4</th>\n      <td>Thinadhoo</td>\n      <td>100</td>\n      <td>MV</td>\n      <td>1599100706</td>\n      <td>75</td>\n      <td>0.53</td>\n      <td>72.93</td>\n      <td>82.24</td>\n      <td>13.38</td>\n    </tr>\n  </tbody>\n</table>\n</div>"
     },
     "metadata": {},
     "execution_count": 2
    }
   ],
   "source": [
    "weather_data = pd.read_csv(\"../output_data/weather_cities.csv\")\n",
    "weather_data.head()"
   ]
  },
  {
   "cell_type": "markdown",
   "metadata": {},
   "source": [
    "### Humidity Heatmap\n",
    "* Configure gmaps.\n",
    "* Use the Lat and Lng as locations and Humidity as the weight.\n",
    "* Add Heatmap layer to map."
   ]
  },
  {
   "cell_type": "code",
   "execution_count": 3,
   "metadata": {},
   "outputs": [],
   "source": [
    "# Configure gmaps\n",
    "gmaps.configure(api_key=g_key)\n",
    "\n",
    "# Store latitude and longitude in locations\n",
    "locations = weather_data[[\"Lat\", \"Lng\"]]\n",
    "\n",
    "# Store Humidity in humidity\n",
    "humidity = weather_data[\"Humidity\"]"
   ]
  },
  {
   "cell_type": "code",
   "execution_count": 4,
   "metadata": {},
   "outputs": [
    {
     "output_type": "display_data",
     "data": {
      "text/plain": "Figure(layout=FigureLayout(height='420px'))",
      "application/vnd.jupyter.widget-view+json": {
       "version_major": 2,
       "version_minor": 0,
       "model_id": "3c94c34743de47c4890767521e91d0ed"
      }
     },
     "metadata": {}
    }
   ],
   "source": [
    "# Plot Heatmap\n",
    "fig = gmaps.figure(center=(46.0, -5.0), zoom_level=2)\n",
    "\n",
    "# Create heat layer\n",
    "heat_layer = gmaps.heatmap_layer(locations, weights = humidity, dissipating=False, max_intensity=np.max(humidity), point_radius=3)\n",
    "\n",
    "# Add layer\n",
    "fig.add_layer(heat_layer)\n",
    "\n",
    "# Display figure\n",
    "fig"
   ]
  },
  {
   "cell_type": "markdown",
   "metadata": {},
   "source": [
    "### Create new DataFrame fitting weather criteria\n",
    "* Narrow down the cities to fit weather conditions.\n",
    "* Drop any rows will null values."
   ]
  },
  {
   "cell_type": "code",
   "execution_count": 5,
   "metadata": {},
   "outputs": [
    {
     "output_type": "execute_result",
     "data": {
      "text/plain": "    index                City  Cloudiness Country        Date  Humidity  \\\n0       2              Gerāsh           0      IR  1599100706        43   \n1      36     Arraial do Cabo           0      BR  1599100283        89   \n2      91            Goderich           0      CA  1599100203        81   \n3     103              Beyneu           0      KZ  1599100437        27   \n4     172   São João da Barra           0      BR  1599100656        87   \n5     177          Kiryat Gat           0      IL  1599100279        76   \n6     193      Guerrero Negro           0      MX  1599100070        73   \n7     259             Mīrābād           0      AF  1599100744        18   \n8     262  São Félix do Xingu           0      BR  1599100744        44   \n9     322                Jalu           0      LY  1599100615        23   \n10    327              Gandia           0      ES  1599100755         8   \n11    364           Morondava           0      MG  1599100760        69   \n12    403               Moree           0      AU  1599100386        33   \n13    411              Yulara           0      AU  1599100348        16   \n14    423         Al Bardīyah           0      LY  1599100769        86   \n15    444            Narrabri           0      AU  1599100772        36   \n16    502        Shkurinskaya           0      RU  1599100782        40   \n\n      Lat     Lng  Max Temp  Wind Speed  \n0   27.67   54.14     73.40        2.42  \n1  -22.97  -42.03     70.50       15.64  \n2   43.75  -81.72     73.00        2.86  \n3   45.32   55.20     77.41        7.09  \n4  -21.64  -41.05     71.01        8.72  \n5   31.61   34.76     78.01        2.91  \n6   27.98 -114.06     73.89       15.50  \n7   30.44   61.84     77.59       22.21  \n8   -6.64  -51.99     73.63        1.34  \n9   29.03   21.55     79.77        7.94  \n10  38.97   -0.18     71.01        3.65  \n11 -20.28   44.28     70.21        9.42  \n12 -29.47  149.85     77.00       14.99  \n13 -25.24  130.99     75.20        6.93  \n14  31.76   25.09     75.31        9.08  \n15 -30.32  149.78     77.00       19.46  \n16  46.59   39.36     71.56       11.52  ",
      "text/html": "<div>\n<style scoped>\n    .dataframe tbody tr th:only-of-type {\n        vertical-align: middle;\n    }\n\n    .dataframe tbody tr th {\n        vertical-align: top;\n    }\n\n    .dataframe thead th {\n        text-align: right;\n    }\n</style>\n<table border=\"1\" class=\"dataframe\">\n  <thead>\n    <tr style=\"text-align: right;\">\n      <th></th>\n      <th>index</th>\n      <th>City</th>\n      <th>Cloudiness</th>\n      <th>Country</th>\n      <th>Date</th>\n      <th>Humidity</th>\n      <th>Lat</th>\n      <th>Lng</th>\n      <th>Max Temp</th>\n      <th>Wind Speed</th>\n    </tr>\n  </thead>\n  <tbody>\n    <tr>\n      <th>0</th>\n      <td>2</td>\n      <td>Gerāsh</td>\n      <td>0</td>\n      <td>IR</td>\n      <td>1599100706</td>\n      <td>43</td>\n      <td>27.67</td>\n      <td>54.14</td>\n      <td>73.40</td>\n      <td>2.42</td>\n    </tr>\n    <tr>\n      <th>1</th>\n      <td>36</td>\n      <td>Arraial do Cabo</td>\n      <td>0</td>\n      <td>BR</td>\n      <td>1599100283</td>\n      <td>89</td>\n      <td>-22.97</td>\n      <td>-42.03</td>\n      <td>70.50</td>\n      <td>15.64</td>\n    </tr>\n    <tr>\n      <th>2</th>\n      <td>91</td>\n      <td>Goderich</td>\n      <td>0</td>\n      <td>CA</td>\n      <td>1599100203</td>\n      <td>81</td>\n      <td>43.75</td>\n      <td>-81.72</td>\n      <td>73.00</td>\n      <td>2.86</td>\n    </tr>\n    <tr>\n      <th>3</th>\n      <td>103</td>\n      <td>Beyneu</td>\n      <td>0</td>\n      <td>KZ</td>\n      <td>1599100437</td>\n      <td>27</td>\n      <td>45.32</td>\n      <td>55.20</td>\n      <td>77.41</td>\n      <td>7.09</td>\n    </tr>\n    <tr>\n      <th>4</th>\n      <td>172</td>\n      <td>São João da Barra</td>\n      <td>0</td>\n      <td>BR</td>\n      <td>1599100656</td>\n      <td>87</td>\n      <td>-21.64</td>\n      <td>-41.05</td>\n      <td>71.01</td>\n      <td>8.72</td>\n    </tr>\n    <tr>\n      <th>5</th>\n      <td>177</td>\n      <td>Kiryat Gat</td>\n      <td>0</td>\n      <td>IL</td>\n      <td>1599100279</td>\n      <td>76</td>\n      <td>31.61</td>\n      <td>34.76</td>\n      <td>78.01</td>\n      <td>2.91</td>\n    </tr>\n    <tr>\n      <th>6</th>\n      <td>193</td>\n      <td>Guerrero Negro</td>\n      <td>0</td>\n      <td>MX</td>\n      <td>1599100070</td>\n      <td>73</td>\n      <td>27.98</td>\n      <td>-114.06</td>\n      <td>73.89</td>\n      <td>15.50</td>\n    </tr>\n    <tr>\n      <th>7</th>\n      <td>259</td>\n      <td>Mīrābād</td>\n      <td>0</td>\n      <td>AF</td>\n      <td>1599100744</td>\n      <td>18</td>\n      <td>30.44</td>\n      <td>61.84</td>\n      <td>77.59</td>\n      <td>22.21</td>\n    </tr>\n    <tr>\n      <th>8</th>\n      <td>262</td>\n      <td>São Félix do Xingu</td>\n      <td>0</td>\n      <td>BR</td>\n      <td>1599100744</td>\n      <td>44</td>\n      <td>-6.64</td>\n      <td>-51.99</td>\n      <td>73.63</td>\n      <td>1.34</td>\n    </tr>\n    <tr>\n      <th>9</th>\n      <td>322</td>\n      <td>Jalu</td>\n      <td>0</td>\n      <td>LY</td>\n      <td>1599100615</td>\n      <td>23</td>\n      <td>29.03</td>\n      <td>21.55</td>\n      <td>79.77</td>\n      <td>7.94</td>\n    </tr>\n    <tr>\n      <th>10</th>\n      <td>327</td>\n      <td>Gandia</td>\n      <td>0</td>\n      <td>ES</td>\n      <td>1599100755</td>\n      <td>8</td>\n      <td>38.97</td>\n      <td>-0.18</td>\n      <td>71.01</td>\n      <td>3.65</td>\n    </tr>\n    <tr>\n      <th>11</th>\n      <td>364</td>\n      <td>Morondava</td>\n      <td>0</td>\n      <td>MG</td>\n      <td>1599100760</td>\n      <td>69</td>\n      <td>-20.28</td>\n      <td>44.28</td>\n      <td>70.21</td>\n      <td>9.42</td>\n    </tr>\n    <tr>\n      <th>12</th>\n      <td>403</td>\n      <td>Moree</td>\n      <td>0</td>\n      <td>AU</td>\n      <td>1599100386</td>\n      <td>33</td>\n      <td>-29.47</td>\n      <td>149.85</td>\n      <td>77.00</td>\n      <td>14.99</td>\n    </tr>\n    <tr>\n      <th>13</th>\n      <td>411</td>\n      <td>Yulara</td>\n      <td>0</td>\n      <td>AU</td>\n      <td>1599100348</td>\n      <td>16</td>\n      <td>-25.24</td>\n      <td>130.99</td>\n      <td>75.20</td>\n      <td>6.93</td>\n    </tr>\n    <tr>\n      <th>14</th>\n      <td>423</td>\n      <td>Al Bardīyah</td>\n      <td>0</td>\n      <td>LY</td>\n      <td>1599100769</td>\n      <td>86</td>\n      <td>31.76</td>\n      <td>25.09</td>\n      <td>75.31</td>\n      <td>9.08</td>\n    </tr>\n    <tr>\n      <th>15</th>\n      <td>444</td>\n      <td>Narrabri</td>\n      <td>0</td>\n      <td>AU</td>\n      <td>1599100772</td>\n      <td>36</td>\n      <td>-30.32</td>\n      <td>149.78</td>\n      <td>77.00</td>\n      <td>19.46</td>\n    </tr>\n    <tr>\n      <th>16</th>\n      <td>502</td>\n      <td>Shkurinskaya</td>\n      <td>0</td>\n      <td>RU</td>\n      <td>1599100782</td>\n      <td>40</td>\n      <td>46.59</td>\n      <td>39.36</td>\n      <td>71.56</td>\n      <td>11.52</td>\n    </tr>\n  </tbody>\n</table>\n</div>"
     },
     "metadata": {},
     "execution_count": 5
    }
   ],
   "source": [
    "# Narrow down the cities with wind speed less than 10 mph, cloudiness equals to 0 and max temp between 70 and 80\n",
    "narrowed_cities = weather_data.loc[(weather_data[\"Max Temp\"] > 70) & (weather_data[\"Max Temp\"] < 80) & (weather_data[\"Cloudiness\"] == 0), :]\n",
    "narrowed_cities = narrowed_cities.dropna(how='any')\n",
    "narrowed_cities.reset_index(inplace=True)\n",
    "narrowed_cities"
   ]
  },
  {
   "cell_type": "markdown",
   "metadata": {},
   "source": [
    "### Hotel Map\n",
    "* Store into variable named `hotel_df`.\n",
    "* Add a \"Hotel Name\" column to the DataFrame.\n",
    "* Set parameters to search for hotels with 5000 meters.\n",
    "* Hit the Google Places API for each city's coordinates.\n",
    "* Store the first Hotel result into the DataFrame.\n",
    "* Plot markers on top of the heatmap."
   ]
  },
  {
   "cell_type": "code",
   "execution_count": 6,
   "metadata": {},
   "outputs": [
    {
     "output_type": "execute_result",
     "data": {
      "text/plain": "                  City Country    Lat     Lng Hotel Name\n0               Gerāsh      IR  27.67   54.14           \n1      Arraial do Cabo      BR -22.97  -42.03           \n2             Goderich      CA  43.75  -81.72           \n3               Beyneu      KZ  45.32   55.20           \n4    São João da Barra      BR -21.64  -41.05           \n5           Kiryat Gat      IL  31.61   34.76           \n6       Guerrero Negro      MX  27.98 -114.06           \n7              Mīrābād      AF  30.44   61.84           \n8   São Félix do Xingu      BR  -6.64  -51.99           \n9                 Jalu      LY  29.03   21.55           \n10              Gandia      ES  38.97   -0.18           \n11           Morondava      MG -20.28   44.28           \n12               Moree      AU -29.47  149.85           \n13              Yulara      AU -25.24  130.99           \n14         Al Bardīyah      LY  31.76   25.09           \n15            Narrabri      AU -30.32  149.78           \n16        Shkurinskaya      RU  46.59   39.36           ",
      "text/html": "<div>\n<style scoped>\n    .dataframe tbody tr th:only-of-type {\n        vertical-align: middle;\n    }\n\n    .dataframe tbody tr th {\n        vertical-align: top;\n    }\n\n    .dataframe thead th {\n        text-align: right;\n    }\n</style>\n<table border=\"1\" class=\"dataframe\">\n  <thead>\n    <tr style=\"text-align: right;\">\n      <th></th>\n      <th>City</th>\n      <th>Country</th>\n      <th>Lat</th>\n      <th>Lng</th>\n      <th>Hotel Name</th>\n    </tr>\n  </thead>\n  <tbody>\n    <tr>\n      <th>0</th>\n      <td>Gerāsh</td>\n      <td>IR</td>\n      <td>27.67</td>\n      <td>54.14</td>\n      <td></td>\n    </tr>\n    <tr>\n      <th>1</th>\n      <td>Arraial do Cabo</td>\n      <td>BR</td>\n      <td>-22.97</td>\n      <td>-42.03</td>\n      <td></td>\n    </tr>\n    <tr>\n      <th>2</th>\n      <td>Goderich</td>\n      <td>CA</td>\n      <td>43.75</td>\n      <td>-81.72</td>\n      <td></td>\n    </tr>\n    <tr>\n      <th>3</th>\n      <td>Beyneu</td>\n      <td>KZ</td>\n      <td>45.32</td>\n      <td>55.20</td>\n      <td></td>\n    </tr>\n    <tr>\n      <th>4</th>\n      <td>São João da Barra</td>\n      <td>BR</td>\n      <td>-21.64</td>\n      <td>-41.05</td>\n      <td></td>\n    </tr>\n    <tr>\n      <th>5</th>\n      <td>Kiryat Gat</td>\n      <td>IL</td>\n      <td>31.61</td>\n      <td>34.76</td>\n      <td></td>\n    </tr>\n    <tr>\n      <th>6</th>\n      <td>Guerrero Negro</td>\n      <td>MX</td>\n      <td>27.98</td>\n      <td>-114.06</td>\n      <td></td>\n    </tr>\n    <tr>\n      <th>7</th>\n      <td>Mīrābād</td>\n      <td>AF</td>\n      <td>30.44</td>\n      <td>61.84</td>\n      <td></td>\n    </tr>\n    <tr>\n      <th>8</th>\n      <td>São Félix do Xingu</td>\n      <td>BR</td>\n      <td>-6.64</td>\n      <td>-51.99</td>\n      <td></td>\n    </tr>\n    <tr>\n      <th>9</th>\n      <td>Jalu</td>\n      <td>LY</td>\n      <td>29.03</td>\n      <td>21.55</td>\n      <td></td>\n    </tr>\n    <tr>\n      <th>10</th>\n      <td>Gandia</td>\n      <td>ES</td>\n      <td>38.97</td>\n      <td>-0.18</td>\n      <td></td>\n    </tr>\n    <tr>\n      <th>11</th>\n      <td>Morondava</td>\n      <td>MG</td>\n      <td>-20.28</td>\n      <td>44.28</td>\n      <td></td>\n    </tr>\n    <tr>\n      <th>12</th>\n      <td>Moree</td>\n      <td>AU</td>\n      <td>-29.47</td>\n      <td>149.85</td>\n      <td></td>\n    </tr>\n    <tr>\n      <th>13</th>\n      <td>Yulara</td>\n      <td>AU</td>\n      <td>-25.24</td>\n      <td>130.99</td>\n      <td></td>\n    </tr>\n    <tr>\n      <th>14</th>\n      <td>Al Bardīyah</td>\n      <td>LY</td>\n      <td>31.76</td>\n      <td>25.09</td>\n      <td></td>\n    </tr>\n    <tr>\n      <th>15</th>\n      <td>Narrabri</td>\n      <td>AU</td>\n      <td>-30.32</td>\n      <td>149.78</td>\n      <td></td>\n    </tr>\n    <tr>\n      <th>16</th>\n      <td>Shkurinskaya</td>\n      <td>RU</td>\n      <td>46.59</td>\n      <td>39.36</td>\n      <td></td>\n    </tr>\n  </tbody>\n</table>\n</div>"
     },
     "metadata": {},
     "execution_count": 6
    }
   ],
   "source": [
    "# Create a hotel_df\n",
    "hotel_data = narrowed_cities.loc[:,[\"City\",\"Country\", \"Lat\", \"Lng\"]]\n",
    "\n",
    "# Add a \"Hotel Name\" column to the DataFrame.\n",
    "hotel_data[\"Hotel Name\"] = \"\"\n",
    "\n",
    "# Display the result\n",
    "hotel_data"
   ]
  },
  {
   "cell_type": "code",
   "execution_count": 7,
   "metadata": {
    "tags": []
   },
   "outputs": [
    {
     "output_type": "stream",
     "name": "stdout",
     "text": "Retrieving Results for Index 0: Gerāsh.\nClosest hotel in Gerāsh is Chelpasin.\n------------\nRetrieving Results for Index 1: Arraial do Cabo.\nClosest hotel in Arraial do Cabo is Orlanova Hotel.\n------------\nRetrieving Results for Index 2: Goderich.\nClosest hotel in Goderich is Samuels Hotel.\n------------\nRetrieving Results for Index 3: Beyneu.\nClosest hotel in Beyneu is HOTEL \"AKNUR\".\n------------\nRetrieving Results for Index 4: São João da Barra.\nClosest hotel in São João da Barra is Pousada Kactus.\n------------\nRetrieving Results for Index 5: Kiryat Gat.\nClosest hotel in Kiryat Gat is Desert Gat.\n------------\nRetrieving Results for Index 6: Guerrero Negro.\nClosest hotel in Guerrero Negro is Hotel Los Caracoles.\n------------\nRetrieving Results for Index 7: Mīrābād.\nMissing field/result... skipping.\n------------\nRetrieving Results for Index 8: São Félix do Xingu.\nClosest hotel in São Félix do Xingu is Apart Hotel Rio Xingu.\n------------\nRetrieving Results for Index 9: Jalu.\nClosest hotel in Jalu is Jalu Hotel.\n------------\nRetrieving Results for Index 10: Gandia.\nClosest hotel in Gandia is Hotel RH Bayren & Spa.\n------------\nRetrieving Results for Index 11: Morondava.\nClosest hotel in Morondava is Palissandre Cote Ouest resort & SPA.\n------------\nRetrieving Results for Index 12: Moree.\nClosest hotel in Moree is Artesian Spa Motel.\n------------\nRetrieving Results for Index 13: Yulara.\nClosest hotel in Yulara is Sails in the Desert.\n------------\nRetrieving Results for Index 14: Al Bardīyah.\nClosest hotel in Al Bardīyah is Hotel Burdy.\n------------\nRetrieving Results for Index 15: Narrabri.\nClosest hotel in Narrabri is Crossroads Hotel.\n------------\nRetrieving Results for Index 16: Shkurinskaya.\nMissing field/result... skipping.\n------------\n-------End of Search-------\n"
    }
   ],
   "source": [
    "\n",
    "base_url = \"https://maps.googleapis.com/maps/api/place/nearbysearch/json\"\n",
    "\n",
    "params = {\"type\" : \"hotel\",\n",
    "          \"keyword\" : \"hotel\",\n",
    "          \"radius\" : 5000,\n",
    "          \"key\" : g_key}\n",
    "\n",
    "for index, row in hotel_data.iterrows():\n",
    "    # get city name, lat, lnt from df\n",
    "    lat = row[\"Lat\"]\n",
    "    lng = row[\"Lng\"]\n",
    "    city_name = row[\"City\"]\n",
    "    \n",
    "    # add keyword to params dict\n",
    "    params[\"location\"] = f\"{lat},{lng}\"\n",
    "\n",
    "    # assemble url and make API request\n",
    "    print(f\"Retrieving Results for Index {index}: {city_name}.\")\n",
    "    response = requests.get(base_url, params=params).json()\n",
    "    \n",
    "    # extract results\n",
    "    results = response['results']\n",
    "    \n",
    "    # save the hotel name to dataframe\n",
    "    try:\n",
    "        print(f\"Closest hotel in {city_name} is {results[0]['name']}.\")\n",
    "        hotel_data.loc[index, \"Hotel Name\"] = results[0]['name']\n",
    "\n",
    "    # if there is no hotel available, show missing field\n",
    "    except (KeyError, IndexError):\n",
    "        print(\"Missing field/result... skipping.\")\n",
    "        \n",
    "    print(\"------------\")\n",
    "\n",
    "# Print end of search once searching is completed\n",
    "print(\"-------End of Search-------\")\n",
    "\n",
    "\n"
   ]
  },
  {
   "cell_type": "code",
   "execution_count": 8,
   "metadata": {},
   "outputs": [
    {
     "output_type": "execute_result",
     "data": {
      "text/plain": "                  City Country    Lat     Lng  \\\n0               Gerāsh      IR  27.67   54.14   \n1      Arraial do Cabo      BR -22.97  -42.03   \n2             Goderich      CA  43.75  -81.72   \n3               Beyneu      KZ  45.32   55.20   \n4    São João da Barra      BR -21.64  -41.05   \n5           Kiryat Gat      IL  31.61   34.76   \n6       Guerrero Negro      MX  27.98 -114.06   \n7              Mīrābād      AF  30.44   61.84   \n8   São Félix do Xingu      BR  -6.64  -51.99   \n9                 Jalu      LY  29.03   21.55   \n10              Gandia      ES  38.97   -0.18   \n11           Morondava      MG -20.28   44.28   \n12               Moree      AU -29.47  149.85   \n13              Yulara      AU -25.24  130.99   \n14         Al Bardīyah      LY  31.76   25.09   \n15            Narrabri      AU -30.32  149.78   \n16        Shkurinskaya      RU  46.59   39.36   \n\n                             Hotel Name  \n0                             Chelpasin  \n1                        Orlanova Hotel  \n2                         Samuels Hotel  \n3                         HOTEL \"AKNUR\"  \n4                        Pousada Kactus  \n5                            Desert Gat  \n6                   Hotel Los Caracoles  \n7                                        \n8                 Apart Hotel Rio Xingu  \n9                            Jalu Hotel  \n10                Hotel RH Bayren & Spa  \n11  Palissandre Cote Ouest resort & SPA  \n12                   Artesian Spa Motel  \n13                  Sails in the Desert  \n14                          Hotel Burdy  \n15                     Crossroads Hotel  \n16                                       ",
      "text/html": "<div>\n<style scoped>\n    .dataframe tbody tr th:only-of-type {\n        vertical-align: middle;\n    }\n\n    .dataframe tbody tr th {\n        vertical-align: top;\n    }\n\n    .dataframe thead th {\n        text-align: right;\n    }\n</style>\n<table border=\"1\" class=\"dataframe\">\n  <thead>\n    <tr style=\"text-align: right;\">\n      <th></th>\n      <th>City</th>\n      <th>Country</th>\n      <th>Lat</th>\n      <th>Lng</th>\n      <th>Hotel Name</th>\n    </tr>\n  </thead>\n  <tbody>\n    <tr>\n      <th>0</th>\n      <td>Gerāsh</td>\n      <td>IR</td>\n      <td>27.67</td>\n      <td>54.14</td>\n      <td>Chelpasin</td>\n    </tr>\n    <tr>\n      <th>1</th>\n      <td>Arraial do Cabo</td>\n      <td>BR</td>\n      <td>-22.97</td>\n      <td>-42.03</td>\n      <td>Orlanova Hotel</td>\n    </tr>\n    <tr>\n      <th>2</th>\n      <td>Goderich</td>\n      <td>CA</td>\n      <td>43.75</td>\n      <td>-81.72</td>\n      <td>Samuels Hotel</td>\n    </tr>\n    <tr>\n      <th>3</th>\n      <td>Beyneu</td>\n      <td>KZ</td>\n      <td>45.32</td>\n      <td>55.20</td>\n      <td>HOTEL \"AKNUR\"</td>\n    </tr>\n    <tr>\n      <th>4</th>\n      <td>São João da Barra</td>\n      <td>BR</td>\n      <td>-21.64</td>\n      <td>-41.05</td>\n      <td>Pousada Kactus</td>\n    </tr>\n    <tr>\n      <th>5</th>\n      <td>Kiryat Gat</td>\n      <td>IL</td>\n      <td>31.61</td>\n      <td>34.76</td>\n      <td>Desert Gat</td>\n    </tr>\n    <tr>\n      <th>6</th>\n      <td>Guerrero Negro</td>\n      <td>MX</td>\n      <td>27.98</td>\n      <td>-114.06</td>\n      <td>Hotel Los Caracoles</td>\n    </tr>\n    <tr>\n      <th>7</th>\n      <td>Mīrābād</td>\n      <td>AF</td>\n      <td>30.44</td>\n      <td>61.84</td>\n      <td></td>\n    </tr>\n    <tr>\n      <th>8</th>\n      <td>São Félix do Xingu</td>\n      <td>BR</td>\n      <td>-6.64</td>\n      <td>-51.99</td>\n      <td>Apart Hotel Rio Xingu</td>\n    </tr>\n    <tr>\n      <th>9</th>\n      <td>Jalu</td>\n      <td>LY</td>\n      <td>29.03</td>\n      <td>21.55</td>\n      <td>Jalu Hotel</td>\n    </tr>\n    <tr>\n      <th>10</th>\n      <td>Gandia</td>\n      <td>ES</td>\n      <td>38.97</td>\n      <td>-0.18</td>\n      <td>Hotel RH Bayren &amp; Spa</td>\n    </tr>\n    <tr>\n      <th>11</th>\n      <td>Morondava</td>\n      <td>MG</td>\n      <td>-20.28</td>\n      <td>44.28</td>\n      <td>Palissandre Cote Ouest resort &amp; SPA</td>\n    </tr>\n    <tr>\n      <th>12</th>\n      <td>Moree</td>\n      <td>AU</td>\n      <td>-29.47</td>\n      <td>149.85</td>\n      <td>Artesian Spa Motel</td>\n    </tr>\n    <tr>\n      <th>13</th>\n      <td>Yulara</td>\n      <td>AU</td>\n      <td>-25.24</td>\n      <td>130.99</td>\n      <td>Sails in the Desert</td>\n    </tr>\n    <tr>\n      <th>14</th>\n      <td>Al Bardīyah</td>\n      <td>LY</td>\n      <td>31.76</td>\n      <td>25.09</td>\n      <td>Hotel Burdy</td>\n    </tr>\n    <tr>\n      <th>15</th>\n      <td>Narrabri</td>\n      <td>AU</td>\n      <td>-30.32</td>\n      <td>149.78</td>\n      <td>Crossroads Hotel</td>\n    </tr>\n    <tr>\n      <th>16</th>\n      <td>Shkurinskaya</td>\n      <td>RU</td>\n      <td>46.59</td>\n      <td>39.36</td>\n      <td></td>\n    </tr>\n  </tbody>\n</table>\n</div>"
     },
     "metadata": {},
     "execution_count": 8
    }
   ],
   "source": [
    "hotel_data"
   ]
  },
  {
   "cell_type": "code",
   "execution_count": 9,
   "metadata": {},
   "outputs": [],
   "source": [
    "# NOTE: Do not change any of the code in this cell\n",
    "\n",
    "# Using the template add the hotel marks to the heatmap\n",
    "info_box_template = \"\"\"\n",
    "<dl>\n",
    "<dt>Name</dt><dd>{Hotel Name}</dd>\n",
    "<dt>City</dt><dd>{City}</dd>\n",
    "<dt>Country</dt><dd>{Country}</dd>\n",
    "</dl>\n",
    "\"\"\"\n",
    "# Store the DataFrame Row\n",
    "# NOTE: be sure to update with your DataFrame name\n",
    "hotel_info = [info_box_template.format(**row) for index, row in hotel_data.iterrows()]\n",
    "locations = hotel_data[[\"Lat\", \"Lng\"]]"
   ]
  },
  {
   "cell_type": "code",
   "execution_count": 11,
   "metadata": {},
   "outputs": [
    {
     "output_type": "display_data",
     "data": {
      "text/plain": "Figure(layout=FigureLayout(height='420px'))",
      "application/vnd.jupyter.widget-view+json": {
       "version_major": 2,
       "version_minor": 0,
       "model_id": "3c94c34743de47c4890767521e91d0ed"
      }
     },
     "metadata": {}
    }
   ],
   "source": [
    "# Add marker layer ontop of heat map\n",
    "markers = gmaps.marker_layer(locations, info_box_content= hotel_info)\n",
    "\n",
    "fig.add_layer(markers)\n",
    "\n",
    "# Display figure\n",
    "fig"
   ]
  },
  {
   "cell_type": "code",
   "execution_count": null,
   "metadata": {},
   "outputs": [],
   "source": []
  }
 ],
 "metadata": {
  "kernelspec": {
   "display_name": "Python 3.6.10 64-bit ('PythonData': conda)",
   "language": "python",
   "name": "python_defaultSpec_1599603356895"
  },
  "language_info": {
   "codemirror_mode": {
    "name": "ipython",
    "version": 3
   },
   "file_extension": ".py",
   "mimetype": "text/x-python",
   "name": "python",
   "nbconvert_exporter": "python",
   "pygments_lexer": "ipython3",
   "version": "3.6.10-final"
  },
  "latex_envs": {
   "LaTeX_envs_menu_present": true,
   "autoclose": false,
   "autocomplete": true,
   "bibliofile": "biblio.bib",
   "cite_by": "apalike",
   "current_citInitial": 1,
   "eqLabelWithNumbers": true,
   "eqNumInitial": 1,
   "hotkeys": {
    "equation": "Ctrl-E",
    "itemize": "Ctrl-I"
   },
   "labels_anchors": false,
   "latex_user_defs": false,
   "report_style_numbering": false,
   "user_envs_cfg": false
  }
 },
 "nbformat": 4,
 "nbformat_minor": 4
}